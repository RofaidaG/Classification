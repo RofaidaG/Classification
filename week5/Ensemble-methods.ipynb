{
 "cells": [
  {
   "cell_type": "code",
   "execution_count": 1,
   "metadata": {
    "collapsed": true
   },
   "outputs": [],
   "source": [
    "import pandas as pd\n",
    "import numpy as np"
   ]
  },
  {
   "cell_type": "code",
   "execution_count": 2,
   "metadata": {
    "collapsed": false
   },
   "outputs": [],
   "source": [
    "loans = pd.read_csv('lending-club-data.csv', low_memory=False)"
   ]
  },
  {
   "cell_type": "code",
   "execution_count": 3,
   "metadata": {
    "collapsed": false
   },
   "outputs": [
    {
     "name": "stdout",
     "output_type": "stream",
     "text": [
      "Index([u'id', u'member_id', u'loan_amnt', u'funded_amnt', u'funded_amnt_inv',\n",
      "       u'term', u'int_rate', u'installment', u'grade', u'sub_grade',\n",
      "       u'emp_title', u'emp_length', u'home_ownership', u'annual_inc',\n",
      "       u'is_inc_v', u'issue_d', u'loan_status', u'pymnt_plan', u'url', u'desc',\n",
      "       u'purpose', u'title', u'zip_code', u'addr_state', u'dti',\n",
      "       u'delinq_2yrs', u'earliest_cr_line', u'inq_last_6mths',\n",
      "       u'mths_since_last_delinq', u'mths_since_last_record', u'open_acc',\n",
      "       u'pub_rec', u'revol_bal', u'revol_util', u'total_acc',\n",
      "       u'initial_list_status', u'out_prncp', u'out_prncp_inv', u'total_pymnt',\n",
      "       u'total_pymnt_inv', u'total_rec_prncp', u'total_rec_int',\n",
      "       u'total_rec_late_fee', u'recoveries', u'collection_recovery_fee',\n",
      "       u'last_pymnt_d', u'last_pymnt_amnt', u'next_pymnt_d',\n",
      "       u'last_credit_pull_d', u'collections_12_mths_ex_med',\n",
      "       u'mths_since_last_major_derog', u'policy_code', u'not_compliant',\n",
      "       u'status', u'inactive_loans', u'bad_loans', u'emp_length_num',\n",
      "       u'grade_num', u'sub_grade_num', u'delinq_2yrs_zero', u'pub_rec_zero',\n",
      "       u'collections_12_mths_zero', u'short_emp', u'payment_inc_ratio',\n",
      "       u'final_d', u'last_delinq_none', u'last_record_none',\n",
      "       u'last_major_derog_none'],\n",
      "      dtype='object')\n"
     ]
    }
   ],
   "source": [
    "print loans.columns"
   ]
  },
  {
   "cell_type": "code",
   "execution_count": 4,
   "metadata": {
    "collapsed": false
   },
   "outputs": [],
   "source": [
    "# safe_loans =  1 => safe\n",
    "# safe_loans = -1 => risky\n",
    "loans['safe_loans'] = loans['bad_loans'].apply(lambda x : +1 if x==0 else -1)"
   ]
  },
  {
   "cell_type": "code",
   "execution_count": 5,
   "metadata": {
    "collapsed": true
   },
   "outputs": [],
   "source": [
    "target = 'safe_loans'\n",
    "features = ['grade',                     # grade of the loan (categorical)\n",
    "            'sub_grade_num',             # sub-grade of the loan as a number from 0 to 1\n",
    "            'short_emp',                 # one year or less of employment\n",
    "            'emp_length_num',            # number of years of employment\n",
    "            'home_ownership',            # home_ownership status: own, mortgage or rent\n",
    "            'dti',                       # debt to income ratio\n",
    "            'purpose',                   # the purpose of the loan\n",
    "            'payment_inc_ratio',         # ratio of the monthly payment to income\n",
    "            'delinq_2yrs',               # number of delinquincies\n",
    "             'delinq_2yrs_zero',          # no delinquincies in last 2 years\n",
    "            'inq_last_6mths',            # number of creditor inquiries in last 6 months\n",
    "            'last_delinq_none',          # has borrower had a delinquincy\n",
    "            'last_major_derog_none',     # has borrower had 90 day or worse rating\n",
    "            'open_acc',                  # number of open credit accounts\n",
    "            'pub_rec',                   # number of derogatory public records\n",
    "            'pub_rec_zero',              # no derogatory public records\n",
    "            'revol_util',                # percent of available credit being used\n",
    "            'total_rec_late_fee',        # total late fees received to day\n",
    "            'int_rate',                  # interest rate of the loan\n",
    "            'total_rec_int',             # interest received to date\n",
    "            'annual_inc',                # annual income of borrower\n",
    "            'funded_amnt',               # amount committed to the loan\n",
    "            'funded_amnt_inv',           # amount committed by investors for the loan\n",
    "            'installment',               # monthly payment owed by the borrower\n",
    "           ]"
   ]
  },
  {
   "cell_type": "code",
   "execution_count": 6,
   "metadata": {
    "collapsed": true
   },
   "outputs": [],
   "source": [
    "loans_with_na = loans.copy()"
   ]
  },
  {
   "cell_type": "code",
   "execution_count": 7,
   "metadata": {
    "collapsed": true
   },
   "outputs": [],
   "source": [
    "loans = loans[[target] + features].dropna()"
   ]
  },
  {
   "cell_type": "code",
   "execution_count": 9,
   "metadata": {
    "collapsed": false
   },
   "outputs": [
    {
     "name": "stdout",
     "output_type": "stream",
     "text": [
      "Original 122607 observations; keeping 122578 \n"
     ]
    }
   ],
   "source": [
    "# Count the number of rows with missing data\n",
    "num_rows_with_na = len(loans_with_na)\n",
    "num_rows = len(loans)\n",
    "print 'Original %s observations; keeping %s ' % (num_rows_with_na, num_rows)"
   ]
  },
  {
   "cell_type": "code",
   "execution_count": 10,
   "metadata": {
    "collapsed": true
   },
   "outputs": [],
   "source": [
    "train_index = pd.read_json('module-8-assignment-1-train-idx.json')\n",
    "train_index.columns = ['indexvalue']\n",
    "train_idx = train_index.indexvalue.tolist()\n",
    "\n",
    "validation_index = pd.read_json('module-8-assignment-1-validation-idx.json')\n",
    "validation_index.columns = ['indexvalue']\n",
    "validation_idx = validation_index.indexvalue.tolist()\n",
    "\n",
    "train_data = loans.iloc[train_idx]\n",
    "validation_data = loans.iloc[validation_idx]"
   ]
  },
  {
   "cell_type": "code",
   "execution_count": 23,
   "metadata": {
    "collapsed": false
   },
   "outputs": [
    {
     "data": {
      "text/plain": [
       "((37219, 25), (9284, 25), (37219, 24), (9284, 24))"
      ]
     },
     "execution_count": 23,
     "metadata": {},
     "output_type": "execute_result"
    }
   ],
   "source": [
    "train_data.shape, validation_data.shape, train_data[features].shape, validation_data[features].shape"
   ]
  },
  {
   "cell_type": "code",
   "execution_count": 14,
   "metadata": {
    "collapsed": false
   },
   "outputs": [
    {
     "data": {
      "text/plain": [
       "Index([u'safe_loans', u'grade', u'sub_grade_num', u'short_emp',\n",
       "       u'emp_length_num', u'home_ownership', u'dti', u'purpose',\n",
       "       u'payment_inc_ratio', u'delinq_2yrs', u'delinq_2yrs_zero',\n",
       "       u'inq_last_6mths', u'last_delinq_none', u'last_major_derog_none',\n",
       "       u'open_acc', u'pub_rec', u'pub_rec_zero', u'revol_util',\n",
       "       u'total_rec_late_fee', u'int_rate', u'total_rec_int', u'annual_inc',\n",
       "       u'funded_amnt', u'funded_amnt_inv', u'installment'],\n",
       "      dtype='object')"
      ]
     },
     "execution_count": 14,
     "metadata": {},
     "output_type": "execute_result"
    }
   ],
   "source": [
    "train_data.columns"
   ]
  },
  {
   "cell_type": "code",
   "execution_count": 17,
   "metadata": {
    "collapsed": true
   },
   "outputs": [],
   "source": [
    "from sklearn.ensemble import GradientBoostingClassifier\n",
    "\n",
    "gbc = GradientBoostingClassifier(max_depth=6, n_estimators=5)"
   ]
  },
  {
   "cell_type": "code",
   "execution_count": 20,
   "metadata": {
    "collapsed": false
   },
   "outputs": [],
   "source": [
    "#Prepare data\n",
    "\n",
    "#One-Hot-Encoding\n",
    "from sklearn.feature_extraction import DictVectorizer\n",
    "\n",
    "def encode_data(data, categorical_type):\n",
    "    \n",
    "    data_cat = data[categorical_type].T.to_dict().values()\n",
    "    vect = DictVectorizer(sparse=False)\n",
    "    data_vector = vect.fit_transform(data_cat)\n",
    "    \n",
    "    #Merge/replace vector data into existing dataframe\n",
    "    #data_num = data.drop(categorical_type + outcome_var, axis=1)\n",
    "    #X_train = np.concatenate((data_num.values, data_vector), axis=1)\n",
    "    \n",
    "    return data_vector"
   ]
  },
  {
   "cell_type": "code",
   "execution_count": 21,
   "metadata": {
    "collapsed": true
   },
   "outputs": [],
   "source": [
    "def df_encode_data(data, categorical_type):\n",
    "    return pd.get_dummies(data[categorical_type])"
   ]
  },
  {
   "cell_type": "code",
   "execution_count": 24,
   "metadata": {
    "collapsed": true
   },
   "outputs": [],
   "source": [
    "category = features\n",
    "\n",
    "X_train_vector = df_encode_data(train_data[features], features)\n",
    "validation_vector = df_encode_data(validation_data[features], features)"
   ]
  },
  {
   "cell_type": "code",
   "execution_count": 25,
   "metadata": {
    "collapsed": false
   },
   "outputs": [
    {
     "data": {
      "text/plain": [
       "((37219, 44), (9284, 44))"
      ]
     },
     "execution_count": 25,
     "metadata": {},
     "output_type": "execute_result"
    }
   ],
   "source": [
    "X_train_vector.shape,validation_vector.shape"
   ]
  },
  {
   "cell_type": "code",
   "execution_count": 26,
   "metadata": {
    "collapsed": false
   },
   "outputs": [
    {
     "data": {
      "text/plain": [
       "Index([u'sub_grade_num', u'short_emp', u'emp_length_num', u'dti',\n",
       "       u'payment_inc_ratio', u'delinq_2yrs', u'delinq_2yrs_zero',\n",
       "       u'inq_last_6mths', u'last_delinq_none', u'last_major_derog_none',\n",
       "       u'open_acc', u'pub_rec', u'pub_rec_zero', u'revol_util',\n",
       "       u'total_rec_late_fee', u'int_rate', u'total_rec_int', u'annual_inc',\n",
       "       u'funded_amnt', u'funded_amnt_inv', u'installment', u'grade_A',\n",
       "       u'grade_B', u'grade_C', u'grade_D', u'grade_E', u'grade_F', u'grade_G',\n",
       "       u'home_ownership_MORTGAGE', u'home_ownership_OTHER',\n",
       "       u'home_ownership_OWN', u'home_ownership_RENT', u'purpose_car',\n",
       "       u'purpose_credit_card', u'purpose_debt_consolidation',\n",
       "       u'purpose_home_improvement', u'purpose_house',\n",
       "       u'purpose_major_purchase', u'purpose_medical', u'purpose_moving',\n",
       "       u'purpose_other', u'purpose_small_business', u'purpose_vacation',\n",
       "       u'purpose_wedding'],\n",
       "      dtype='object')"
      ]
     },
     "execution_count": 26,
     "metadata": {},
     "output_type": "execute_result"
    }
   ],
   "source": [
    "X_train_vector.columns"
   ]
  },
  {
   "cell_type": "code",
   "execution_count": 27,
   "metadata": {
    "collapsed": false
   },
   "outputs": [
    {
     "name": "stdout",
     "output_type": "stream",
     "text": [
      "safe_loans int64\n",
      "grade object\n",
      "sub_grade_num float64\n",
      "short_emp int64\n",
      "emp_length_num int64\n",
      "home_ownership object\n",
      "dti float64\n",
      "purpose object\n",
      "payment_inc_ratio float64\n",
      "delinq_2yrs float64\n",
      "delinq_2yrs_zero float64\n",
      "inq_last_6mths float64\n",
      "last_delinq_none int64\n",
      "last_major_derog_none int64\n",
      "open_acc float64\n",
      "pub_rec float64\n",
      "pub_rec_zero float64\n",
      "revol_util float64\n",
      "total_rec_late_fee float64\n",
      "int_rate float64\n",
      "total_rec_int float64\n",
      "annual_inc float64\n",
      "funded_amnt int64\n",
      "funded_amnt_inv int64\n",
      "installment float64\n"
     ]
    }
   ],
   "source": [
    "for col in train_data.columns:\n",
    "    print str(col) + ' ' + str(train_data[col].dtype)"
   ]
  },
  {
   "cell_type": "code",
   "execution_count": 32,
   "metadata": {
    "collapsed": false
   },
   "outputs": [],
   "source": [
    "X_train = X_train_vector\n",
    "X_validation = validation_vector\n",
    "y_train = train_data[target]\n",
    "y_validation = validation_data[target]"
   ]
  },
  {
   "cell_type": "code",
   "execution_count": 33,
   "metadata": {
    "collapsed": false
   },
   "outputs": [
    {
     "data": {
      "text/plain": [
       "((37219, 44), (9284, 44), (37219,), (9284,))"
      ]
     },
     "execution_count": 33,
     "metadata": {},
     "output_type": "execute_result"
    }
   ],
   "source": [
    "X_train.shape, X_validation.shape, y_train.shape, y_validation.shape"
   ]
  },
  {
   "cell_type": "code",
   "execution_count": 34,
   "metadata": {
    "collapsed": false
   },
   "outputs": [
    {
     "data": {
      "text/plain": [
       "GradientBoostingClassifier(init=None, learning_rate=0.1, loss='deviance',\n",
       "              max_depth=6, max_features=None, max_leaf_nodes=None,\n",
       "              min_samples_leaf=1, min_samples_split=2,\n",
       "              min_weight_fraction_leaf=0.0, n_estimators=5, presort='auto',\n",
       "              random_state=None, subsample=1.0, verbose=0,\n",
       "              warm_start=False)"
      ]
     },
     "execution_count": 34,
     "metadata": {},
     "output_type": "execute_result"
    }
   ],
   "source": [
    "gbc.fit(X_train, y_train)"
   ]
  },
  {
   "cell_type": "code",
   "execution_count": 35,
   "metadata": {
    "collapsed": true
   },
   "outputs": [],
   "source": [
    "y_pred = gbc.predict(X_validation)"
   ]
  },
  {
   "cell_type": "code",
   "execution_count": 37,
   "metadata": {
    "collapsed": false
   },
   "outputs": [],
   "source": [
    "errors = y_pred == y_validation"
   ]
  },
  {
   "cell_type": "code",
   "execution_count": 39,
   "metadata": {
    "collapsed": false
   },
   "outputs": [
    {
     "data": {
      "text/plain": [
       "3143"
      ]
     },
     "execution_count": 39,
     "metadata": {},
     "output_type": "execute_result"
    }
   ],
   "source": [
    "len(errors[errors==False])"
   ]
  },
  {
   "cell_type": "code",
   "execution_count": 42,
   "metadata": {
    "collapsed": false
   },
   "outputs": [
    {
     "data": {
      "text/plain": [
       "(0.3385394226626454, 0.6614605773373546)"
      ]
     },
     "execution_count": 42,
     "metadata": {},
     "output_type": "execute_result"
    }
   ],
   "source": [
    "# Mistake % and Accuracy %\n",
    "float(len(errors[errors==False])) / float(len(errors)), float(len(errors[errors==True])) / float(len(errors))"
   ]
  },
  {
   "cell_type": "code",
   "execution_count": 43,
   "metadata": {
    "collapsed": false
   },
   "outputs": [
    {
     "data": {
      "text/plain": [
       "0.66146057733735464"
      ]
     },
     "execution_count": 43,
     "metadata": {},
     "output_type": "execute_result"
    }
   ],
   "source": [
    "# Accuracy score\n",
    "gbc.score(X_validation, y_validation)"
   ]
  },
  {
   "cell_type": "code",
   "execution_count": 44,
   "metadata": {
    "collapsed": false
   },
   "outputs": [
    {
     "data": {
      "text/html": [
       "<div>\n",
       "<table border=\"1\" class=\"dataframe\">\n",
       "  <thead>\n",
       "    <tr style=\"text-align: right;\">\n",
       "      <th>Predicted</th>\n",
       "      <th>-1</th>\n",
       "      <th>1</th>\n",
       "      <th>All</th>\n",
       "    </tr>\n",
       "    <tr>\n",
       "      <th>True</th>\n",
       "      <th></th>\n",
       "      <th></th>\n",
       "      <th></th>\n",
       "    </tr>\n",
       "  </thead>\n",
       "  <tbody>\n",
       "    <tr>\n",
       "      <th>-1</th>\n",
       "      <td>3020</td>\n",
       "      <td>1652</td>\n",
       "      <td>4672</td>\n",
       "    </tr>\n",
       "    <tr>\n",
       "      <th>1</th>\n",
       "      <td>1491</td>\n",
       "      <td>3121</td>\n",
       "      <td>4612</td>\n",
       "    </tr>\n",
       "    <tr>\n",
       "      <th>All</th>\n",
       "      <td>4511</td>\n",
       "      <td>4773</td>\n",
       "      <td>9284</td>\n",
       "    </tr>\n",
       "  </tbody>\n",
       "</table>\n",
       "</div>"
      ],
      "text/plain": [
       "Predicted    -1     1   All\n",
       "True                       \n",
       "-1         3020  1652  4672\n",
       "1          1491  3121  4612\n",
       "All        4511  4773  9284"
      ]
     },
     "execution_count": 44,
     "metadata": {},
     "output_type": "execute_result"
    }
   ],
   "source": [
    "# Confusion matrix\n",
    "pd.crosstab(y_validation, y_pred, rownames=['True'], colnames=['Predicted'], margins=True)"
   ]
  },
  {
   "cell_type": "code",
   "execution_count": 52,
   "metadata": {
    "collapsed": false
   },
   "outputs": [
    {
     "name": "stdout",
     "output_type": "stream",
     "text": [
      "With number of tree = 5, the accuracy score = 0.661461\n"
     ]
    }
   ],
   "source": [
    "c = 5\n",
    "print \"With number of tree = %i, the accuracy score = %f\" % (c, gbc.score(X_validation, y_validation))"
   ]
  },
  {
   "cell_type": "code",
   "execution_count": 54,
   "metadata": {
    "collapsed": false
   },
   "outputs": [
    {
     "name": "stdout",
     "output_type": "stream",
     "text": [
      "With number of tree = 10, the accuracy score = 0.666415\n",
      "With number of tree = 50, the accuracy score = 0.684511\n",
      "With number of tree = 100, the accuracy score = 0.689143\n",
      "With number of tree = 200, the accuracy score = 0.685480\n",
      "With number of tree = 500, the accuracy score = 0.689573\n"
     ]
    }
   ],
   "source": [
    "for n in [10,50,100,200,500]:\n",
    "    gbtree = GradientBoostingClassifier(max_depth=6, n_estimators=n)\n",
    "    gbtree.fit(X_train, y_train)\n",
    "    print \"With number of tree = %i, the accuracy score = %f\" % (n, gbtree.score(X_validation, y_validation))"
   ]
  },
  {
   "cell_type": "code",
   "execution_count": null,
   "metadata": {
    "collapsed": true
   },
   "outputs": [],
   "source": []
  }
 ],
 "metadata": {
  "kernelspec": {
   "display_name": "Python 2",
   "language": "python",
   "name": "python2"
  },
  "language_info": {
   "codemirror_mode": {
    "name": "ipython",
    "version": 2
   },
   "file_extension": ".py",
   "mimetype": "text/x-python",
   "name": "python",
   "nbconvert_exporter": "python",
   "pygments_lexer": "ipython2",
   "version": "2.7.10"
  }
 },
 "nbformat": 4,
 "nbformat_minor": 0
}
